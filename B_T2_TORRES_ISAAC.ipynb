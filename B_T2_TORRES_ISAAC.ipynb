{
  "nbformat": 4,
  "nbformat_minor": 0,
  "metadata": {
    "colab": {
      "provenance": [],
      "authorship_tag": "ABX9TyNCK6dPsOj5tYvERTG6WoP5",
      "include_colab_link": true
    },
    "kernelspec": {
      "name": "python3",
      "display_name": "Python 3"
    },
    "language_info": {
      "name": "python"
    }
  },
  "cells": [
    {
      "cell_type": "markdown",
      "metadata": {
        "id": "view-in-github",
        "colab_type": "text"
      },
      "source": [
        "<a href=\"https://colab.research.google.com/github/isaactorres30/isaactorres30/blob/main/B_T2_TORRES_ISAAC.ipynb\" target=\"_parent\"><img src=\"https://colab.research.google.com/assets/colab-badge.svg\" alt=\"Open In Colab\"/></a>"
      ]
    },
    {
      "cell_type": "markdown",
      "source": [
        "**TALLER** 2\n",
        "**ISAAC** **TORRES**\n",
        "PARALELO B"
      ],
      "metadata": {
        "id": "BvotGOdzszq_"
      }
    },
    {
      "cell_type": "code",
      "source": [
        "#Escribe un programa que imprima \"Hola, Mundo!\" en la pantalla.\n",
        "print('hola mundo')\n"
      ],
      "metadata": {
        "colab": {
          "base_uri": "https://localhost:8080/"
        },
        "id": "K-kUprF0sTw4",
        "outputId": "50211868-3599-4e53-f8f1-587447f64101"
      },
      "execution_count": 27,
      "outputs": [
        {
          "output_type": "stream",
          "name": "stdout",
          "text": [
            "hola mundo\n"
          ]
        }
      ]
    },
    {
      "cell_type": "code",
      "source": [
        "#Escribe un programa que determine si un número introducido por el usuario es par o impar.\n",
        "\n",
        "numero = int(input(\"Por favor, ingresa un número entero: \"))\n",
        "7if numero % 2 == 0:\n",
        "    print(\"El número ingresado es par.\")\n",
        "else:\n",
        "    print(\"El número ingresado es impar.\")"
      ],
      "metadata": {
        "colab": {
          "base_uri": "https://localhost:8080/"
        },
        "id": "vak8iY80f9B1",
        "outputId": "25c24b15-0223-458e-f193-8a154a6f1fe0"
      },
      "execution_count": 9,
      "outputs": [
        {
          "output_type": "stream",
          "name": "stdout",
          "text": [
            "Por favor, ingresa un número entero: 4\n",
            "El número ingresado es par.\n"
          ]
        }
      ]
    },
    {
      "cell_type": "code",
      "source": [
        "#Suma de dos números: Escribe un programa que pida al usuario dos números y los sume.\n",
        "numero1 = float(input(\"Por favor, ingresa el primer número: \"))\n",
        "numero2 = float(input(\"Por favor, ingresa el segundo número: \"))\n",
        "suma = numero1 + numero2\n",
        "print(\"La suma de\", numero1, \"y\", numero2, \"es igual a:\", suma)"
      ],
      "metadata": {
        "colab": {
          "base_uri": "https://localhost:8080/"
        },
        "id": "U8h-tpJFjBBu",
        "outputId": "0f13a88c-bbf4-4584-da08-bd5f2aff3163"
      },
      "execution_count": 8,
      "outputs": [
        {
          "output_type": "stream",
          "name": "stdout",
          "text": [
            "Por favor, ingresa el primer número: 1\n",
            "Por favor, ingresa el segundo número: 4\n",
            "La suma de 1.0 y 4.0 es igual a: 5.0\n"
          ]
        }
      ]
    },
    {
      "cell_type": "code",
      "source": [
        "#Escribe un programa que realice operaciones básicas (suma, resta, multiplicación y división) entre dos números introducidos por el usuario.\n",
        "numero1 = float(input(\"Por favor, ingresa el primer número: \"))\n",
        "numero2 = float(input(\"Por favor, ingresa el segundo número: \"))\n",
        "\n",
        "suma = numero1 + numero2\n",
        "resta = numero1 - numero2\n",
        "multiplicacion = numero1 * numero2\n",
        "if numero2 != 0:\n",
        "    division = numero1 / numero2\n",
        "else:\n",
        "    division = \"No se puede dividir por cero.\"\n",
        "print(\"Suma:\", numero1, \"+\", numero2, \"=\", suma)\n",
        "print(\"Resta:\", numero1, \"-\", numero2, \"=\", resta)\n",
        "print(\"Multiplicación:\", numero1, \"*\", numero2, \"=\", multiplicacion)\n",
        "print(\"División:\", numero1, \"/\", numero2, \"=\", division)"
      ],
      "metadata": {
        "colab": {
          "base_uri": "https://localhost:8080/"
        },
        "id": "eFMV5hEjke-C",
        "outputId": "d78462b0-0205-4c73-be4b-6b00b97b6a41"
      },
      "execution_count": 10,
      "outputs": [
        {
          "output_type": "stream",
          "name": "stdout",
          "text": [
            "Por favor, ingresa el primer número: 1\n",
            "Por favor, ingresa el segundo número: 3\n",
            "Suma: 1.0 + 3.0 = 4.0\n",
            "Resta: 1.0 - 3.0 = -2.0\n",
            "Multiplicación: 1.0 * 3.0 = 3.0\n",
            "División: 1.0 / 3.0 = 0.3333333333333333\n"
          ]
        }
      ]
    },
    {
      "cell_type": "code",
      "source": [
        "#Escribe un programa que calcule el área de un círculo a partir de su radio, ingresado por el usuario.radio = float(input(\"Por favor, ingresa el radio del círculo: \"))\n",
        "radio = float(input(\"Por favor, ingresa el radio del círculo: \"))\n",
        "area = 3.14159 * radio ** 2\n",
        "print(\"El área del círculo con radio\", radio, \"es:\", area)"
      ],
      "metadata": {
        "colab": {
          "base_uri": "https://localhost:8080/"
        },
        "id": "JWB3R24xl-I7",
        "outputId": "053e8e90-1cbc-4285-c92e-9121474cb122"
      },
      "execution_count": 13,
      "outputs": [
        {
          "output_type": "stream",
          "name": "stdout",
          "text": [
            "Por favor, ingresa el radio del círculo: 89\n",
            "El área del círculo con radio 89.0 es: 24884.53439\n"
          ]
        }
      ]
    },
    {
      "cell_type": "code",
      "source": [
        "#Escribe un programa que pida tres números al usuario y determine cuál es el mayor.\n",
        "numero1 = float(input(\"Por favor, ingresa el primer número: \"))\n",
        "numero2 = float(input(\"Por favor, ingresa el segundo número: \"))\n",
        "numero3 = float(input(\"Por favor, ingresa el tercer número: \"))\n",
        "\n",
        "if numero1 >= numero2 and numero1 >= numero3:\n",
        "    mayor = numero1\n",
        "elif numero2 >= numero1 and numero2 >= numero3:\n",
        "    mayor = numero2\n",
        "else:\n",
        "    mayor = numero3\n",
        "\n",
        "print(\"El número mayor es:\", mayor)"
      ],
      "metadata": {
        "colab": {
          "base_uri": "https://localhost:8080/"
        },
        "id": "dhqKNE7IlR1D",
        "outputId": "7e61d711-fc99-4ce8-e900-c04489e41b6a"
      },
      "execution_count": 14,
      "outputs": [
        {
          "output_type": "stream",
          "name": "stdout",
          "text": [
            "Por favor, ingresa el primer número: 2\n",
            "Por favor, ingresa el segundo número: 5\n",
            "Por favor, ingresa el tercer número: 3\n",
            "El número mayor es: 5.0\n"
          ]
        }
      ]
    },
    {
      "cell_type": "code",
      "source": [
        "#Escribe un programa que convierta una temperatura dada en grados Celsius a grados Fahrenheit.\n",
        "#Solicitar al usuario que ingrese la temperatura en grados Celsius\n",
        "celsius = float(input(\"Por favor, ingresa la temperatura en grados Celsius: \"))\n",
        "\n",
        "# Convertir la temperatura de Celsius a Fahrenheit\n",
        "fahrenheit = (celsius * 9/5) + 32\n",
        "\n",
        "# Mostrar la temperatura en grados Fahrenheit\n",
        "print(\"La temperatura de\", celsius, \"grados Celsius es equivalente a\", fahrenheit, \"grados Fahrenheit.\")"
      ],
      "metadata": {
        "colab": {
          "base_uri": "https://localhost:8080/"
        },
        "id": "84VXW7kFmWuW",
        "outputId": "fe5b9b46-e08a-42ca-a1c7-1ffe437e4477"
      },
      "execution_count": 15,
      "outputs": [
        {
          "output_type": "stream",
          "name": "stdout",
          "text": [
            "Por favor, ingresa la temperatura en grados Celsius: 47\n",
            "La temperatura de 47.0 grados Celsius es equivalente a 116.6 grados Fahrenheit.\n"
          ]
        }
      ]
    },
    {
      "cell_type": "code",
      "source": [
        "#Escribe un programa que cuente hacia atrás desde 10 hasta 0.\n",
        "\n",
        "# Utilizamos un bucle for para iterar sobre los números del 10 al 0\n",
        "for i in range(10, -1, -1):\n",
        "    print(i)\n"
      ],
      "metadata": {
        "colab": {
          "base_uri": "https://localhost:8080/"
        },
        "id": "PrLp1n0CmvNM",
        "outputId": "67a5b30c-8a9a-4d8e-ac1b-a0fbde666764"
      },
      "execution_count": 16,
      "outputs": [
        {
          "output_type": "stream",
          "name": "stdout",
          "text": [
            "10\n",
            "9\n",
            "8\n",
            "7\n",
            "6\n",
            "5\n",
            "4\n",
            "3\n",
            "2\n",
            "1\n",
            "0\n"
          ]
        }
      ]
    },
    {
      "cell_type": "code",
      "source": [
        "#Escribe un programa que muestre la tabla de multiplicar de un número introducido por el usuario.\n",
        "# Solicitar al usuario que ingrese un número para la tabla de multiplicar\n",
        "numero = int(input(\"Por favor, ingresa un número para ver su tabla de multiplicar: \"))\n",
        "\n",
        "# Mostrar la tabla de multiplicar del número ingresado\n",
        "print(\"Tabla de multiplicar del\", numero, \":\")\n",
        "for i in range(1, 11):\n",
        "    resultado = numero * i\n",
        "    print(numero, \"x\", i, \"=\", resultado)\n"
      ],
      "metadata": {
        "colab": {
          "base_uri": "https://localhost:8080/"
        },
        "id": "F9dF_KtenFOp",
        "outputId": "d3c5789d-9847-4fa7-a6f0-c2e76f217769"
      },
      "execution_count": 17,
      "outputs": [
        {
          "output_type": "stream",
          "name": "stdout",
          "text": [
            "Por favor, ingresa un número para ver su tabla de multiplicar: 4\n",
            "Tabla de multiplicar del 4 :\n",
            "4 x 1 = 4\n",
            "4 x 2 = 8\n",
            "4 x 3 = 12\n",
            "4 x 4 = 16\n",
            "4 x 5 = 20\n",
            "4 x 6 = 24\n",
            "4 x 7 = 28\n",
            "4 x 8 = 32\n",
            "4 x 9 = 36\n",
            "4 x 10 = 40\n"
          ]
        }
      ]
    },
    {
      "cell_type": "code",
      "source": [
        "# Solicitar al usuario que ingrese un número\n",
        "numero = int(input(\"Por favor, ingresa un número entero positivo mayor que 1: \"))\n",
        "\n",
        "# Verificar si el número es primo\n",
        "if numero > 1:\n",
        "    es_primo = True\n",
        "    # Comprobar si el número es divisible por algún número entre 2 y su mitad\n",
        "    for i in range(2, numero//2 + 1):\n",
        "        if numero % i == 0:\n",
        "            es_primo = False\n",
        "            break\n",
        "    # Mostrar el resultado\n",
        "    if es_primo:\n",
        "        print(numero, \"es un número primo.\")\n",
        "    else:\n",
        "        print(numero, \"no es un número primo.\")\n",
        "else:\n",
        "    print(\"Por favor, ingresa un número entero positivo mayor que 1.\")"
      ],
      "metadata": {
        "colab": {
          "base_uri": "https://localhost:8080/"
        },
        "id": "3LYzS6jOnWND",
        "outputId": "2b8d55de-2851-4718-d935-3f75482f9862"
      },
      "execution_count": 18,
      "outputs": [
        {
          "output_type": "stream",
          "name": "stdout",
          "text": [
            "Por favor, ingresa un número entero positivo mayor que 1: 1\n",
            "Por favor, ingresa un número entero positivo mayor que 1.\n"
          ]
        }
      ]
    },
    {
      "cell_type": "code",
      "source": [
        "#Sumar números hasta un límite: Escribe un programa que sume todos los números naturales hasta un número límite introducido por el usuario.\n",
        "limite = int(input(\"Por favor, ingresa un número entero positivo como límite: \"))\n",
        "\n",
        "# Verificar si el límite es un número entero positivo\n",
        "if limite <= 0:\n",
        "    print(\"Por favor, ingresa un número entero positivo como límite.\")\n",
        "else:\n",
        "    # Inicializar la suma\n",
        "    suma = 0\n",
        "\n",
        "    # Calcular la suma de los números naturales hasta el límite\n",
        "    for i in range(1, limite + 1):\n",
        "        suma += i\n",
        "\n",
        "    # Mostrar el resultado\n",
        "    print(\"La suma de los números naturales hasta\", limite, \"es:\", suma)"
      ],
      "metadata": {
        "colab": {
          "base_uri": "https://localhost:8080/"
        },
        "id": "PcOwzWupn8qU",
        "outputId": "79d6f300-6328-44b9-9f2f-a3132bf49884"
      },
      "execution_count": 20,
      "outputs": [
        {
          "output_type": "stream",
          "name": "stdout",
          "text": [
            "Por favor, ingresa un número entero positivo como límite: 1\n",
            "La suma de los números naturales hasta 1 es: 1\n"
          ]
        }
      ]
    },
    {
      "cell_type": "code",
      "source": [
        "#Invertir una cadena: Escribe un programa que invierta una cadena introducida por el usuario.\n",
        "# Solicitar al usuario que ingrese una cadena\n",
        "cadena = input(\"Por favor, ingresa una cadena: \")\n",
        "\n",
        "# Invertir la cadena utilizando slicing\n",
        "cadena_invertida = cadena[::-1]\n",
        "\n",
        "# Mostrar la cadena invertida\n",
        "print(\"La cadena invertida es:\", cadena_invertida)"
      ],
      "metadata": {
        "colab": {
          "base_uri": "https://localhost:8080/"
        },
        "id": "Fs30x25OoWF_",
        "outputId": "6fa34473-4623-4992-caf7-fb95c0b3f613"
      },
      "execution_count": 22,
      "outputs": [
        {
          "output_type": "stream",
          "name": "stdout",
          "text": [
            "Por favor, ingresa una cadena: isaac tu hombre\n",
            "La cadena invertida es: erbmoh ut caasi\n"
          ]
        }
      ]
    },
    {
      "cell_type": "code",
      "source": [
        "# Escribe un programa que cuente el número de vocales en una cadena introducida por el usuario.\n",
        "# Solicitar al usuario que ingrese una cadena\n",
        "cadena = input(\"Por favor, ingresa una cadena: \")\n",
        "\n",
        "# Inicializar un contador para las vocales\n",
        "contador_vocales = 0\n",
        "\n",
        "# Definir las vocales en minúsculas y en mayúsculas\n",
        "vocales = \"aeiouAEIOU\"\n",
        "\n",
        "# Contar el número de vocales en la cadena\n",
        "for caracter in cadena:\n",
        "    if caracter in vocales:\n",
        "        contador_vocales += 1\n",
        "\n",
        "# Mostrar el resultado\n",
        "print(\"El número de vocales en la cadena es:\", contador_vocales)"
      ],
      "metadata": {
        "id": "sf49z8Q0o5b3"
      },
      "execution_count": null,
      "outputs": []
    },
    {
      "cell_type": "code",
      "source": [
        "#Escribe un programa que determine si una cadena introducida por el usuario es un palíndromo.\n",
        "# Solicitar al usuario que ingrese una cadena\n",
        "cadena = input(\"Por favor, ingresa una cadena: \")\n",
        "\n",
        "# Eliminar los espacios en blanco y convertir la cadena a minúsculas\n",
        "cadena = cadena.replace(\" \", \"\").lower()\n",
        "\n",
        "# Verificar si la cadena es un palíndromo\n",
        "if cadena == cadena[::-1]:\n",
        "    print(\"La cadena es un palíndromo.\")\n",
        "else:\n",
        "    print(\"La cadena no es un palíndromo.\")"
      ],
      "metadata": {
        "colab": {
          "base_uri": "https://localhost:8080/"
        },
        "id": "_zkzO1NlpQqQ",
        "outputId": "129ba402-ba8a-43fc-a9c9-c1e060bf89b2"
      },
      "execution_count": 23,
      "outputs": [
        {
          "output_type": "stream",
          "name": "stdout",
          "text": [
            "Por favor, ingresa una cadena: ariel meco\n",
            "La cadena no es un palíndromo.\n"
          ]
        }
      ]
    },
    {
      "cell_type": "code",
      "source": [
        "#Escribe un programa que calcule el factorial de un número introducido por el usuario.\n",
        "# Solicitar al usuario que ingrese un número entero positivo\n",
        "numero = int(input(\"Por favor, ingresa un número entero positivo: \"))\n",
        "\n",
        "# Verificar si el número es positivo\n",
        "if numero < 0:\n",
        "    print(\"Por favor, ingresa un número entero positivo.\")\n",
        "else:\n",
        "    factorial = 1\n",
        "    # Calcular el factorial del número\n",
        "    for i in range(1, numero + 1):\n",
        "        factorial *= i\n",
        "    # Mostrar el factorial\n",
        "    print(\"El factorial de\", numero, \"es:\", factorial)"
      ],
      "metadata": {
        "colab": {
          "base_uri": "https://localhost:8080/"
        },
        "id": "nTYuyW8vpiWQ",
        "outputId": "3bfdc233-06c4-4683-adb2-ed5d83862ee0"
      },
      "execution_count": 24,
      "outputs": [
        {
          "output_type": "stream",
          "name": "stdout",
          "text": [
            "Por favor, ingresa un número entero positivo: 9\n",
            "El factorial de 9 es: 362880\n"
          ]
        }
      ]
    },
    {
      "cell_type": "code",
      "source": [
        "#Escribe un programa que genere y muestre 5 números aleatorios entre 1 y 100.\n",
        "print(\"5 números pseudoaleatorios entre 1 y 100:\")\n",
        "for i in range(1, 6):\n",
        "    numero = ((i * 17) % 100) + 1\n",
        "    print(numero)\n"
      ],
      "metadata": {
        "colab": {
          "base_uri": "https://localhost:8080/"
        },
        "id": "vc0c4xOeptrg",
        "outputId": "158139b5-fc9a-4195-8275-7d1e1db2825a"
      },
      "execution_count": 25,
      "outputs": [
        {
          "output_type": "stream",
          "name": "stdout",
          "text": [
            "5 números pseudoaleatorios entre 1 y 100:\n",
            "18\n",
            "35\n",
            "52\n",
            "69\n",
            "86\n"
          ]
        }
      ]
    },
    {
      "cell_type": "code",
      "source": [
        "#Escribe un programa que calcule el índice de masa corporal (IMC) a partir del peso y la altura introducidos por el usuario.\n",
        "# Pedir al usuario que ingrese su peso en kilogramos y su altura en metros\n",
        "peso = float(input(\"Ingrese su peso en kilogramos: \"))\n",
        "altura = float(input(\"Ingrese su altura en metros: \"))\n",
        "\n",
        "# Calcular el índice de masa corporal (IMC)\n",
        "imc = peso / (altura ** 2)\n",
        "\n",
        "# Mostrar el resultado al usuario\n",
        "print(\"Su índice de masa corporal (IMC) es:\", imc)"
      ],
      "metadata": {
        "colab": {
          "base_uri": "https://localhost:8080/"
        },
        "id": "9UjWQm_cq1Vx",
        "outputId": "18fc99ec-56ed-4268-bdec-cfa47d848753"
      },
      "execution_count": 26,
      "outputs": [
        {
          "output_type": "stream",
          "name": "stdout",
          "text": [
            "Ingrese su peso en kilogramos: 8.3\n",
            "Ingrese su altura en metros: 9\n",
            "Su índice de masa corporal (IMC) es: 0.10246913580246915\n"
          ]
        }
      ]
    }
  ]
}